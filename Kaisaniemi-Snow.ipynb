{
 "cells": [
  {
   "cell_type": "markdown",
   "metadata": {},
   "source": [
    "# Depth of snow cover in Kaisaniemi Helsinki"
   ]
  },
  {
   "cell_type": "markdown",
   "metadata": {},
   "source": [
    "This notebook investigates the depth of snow in Kaisaniemi Helsinki over last 60 years. Especially we look in to the probability of snow depth being more than 0 cm on a single day each year.\n",
    "\n"
   ]
  },
  {
   "cell_type": "markdown",
   "metadata": {},
   "source": [
    "The data is originally from FMI: https://ilmatieteenlaitos.fi/havaintojen-lataus#!/"
   ]
  },
  {
   "cell_type": "code",
   "execution_count": null,
   "metadata": {
    "scrolled": true
   },
   "outputs": [],
   "source": [
    "# Using `suppressMessages` do disable noisy import log\n",
    "suppressMessages(library(readr)) # For reading data files\n",
    "suppressMessages(library(dplyr)) # de-facto library for data preprosessing\n",
    "suppressMessages(library(ggplot2)) # de-facto library for visualization\n",
    "suppressMessages(library(rstan))\n",
    "suppressMessages(library(bayesplot))\n",
    "suppressMessages(library(boot))"
   ]
  },
  {
   "cell_type": "code",
   "execution_count": null,
   "metadata": {},
   "outputs": [],
   "source": [
    "options(mc.cores = 1)\n",
    "rstan_options(auto_write = TRUE)"
   ]
  },
  {
   "cell_type": "code",
   "execution_count": null,
   "metadata": {},
   "outputs": [],
   "source": [
    "# Load and cleanup data\n",
    "# ovewrite original column names\n",
    "# parse dates from several columns\n",
    "# clean up negative snow depths\n",
    "d <-  read_csv(\"https://raw.githubusercontent.com/dins/snow-depth/master/kaisaniemi.csv\", \n",
    "               col_types = cols(`Lumensyvyys (cm)` = col_character())) %>%\n",
    "      setNames(c(\"year\", \"month\", \"day\", \"clock\", \"tzone\", \"snow\", \"temp\")) %>%\n",
    "      mutate(date = ISOdate(year, month, day), \n",
    "             snow = ifelse(snow==FALSE, 0, as.numeric(snow)), \n",
    "             snow = ifelse(snow < 0, 0, snow), \n",
    "             is_snow = snow > 0) %>%\n",
    "      select(date, year, month, day, snow, is_snow, temp)"
   ]
  },
  {
   "cell_type": "code",
   "execution_count": null,
   "metadata": {},
   "outputs": [],
   "source": [
    "glimpse(d)"
   ]
  },
  {
   "cell_type": "code",
   "execution_count": null,
   "metadata": {},
   "outputs": [],
   "source": [
    "# Look into a specific day of the year\n",
    "# Remove years with out snow depth measurement\n",
    "christmas <- d %>% filter(!is.na(snow))%>% filter(day==24 & month==12)\n",
    "readr::write_csv(christmas, \"kaisaniemi_christmas.csv\")"
   ]
  },
  {
   "cell_type": "code",
   "execution_count": null,
   "metadata": {},
   "outputs": [],
   "source": [
    "ggplot(christmas, aes(x=year, y=snow)) + \n",
    "  geom_point(aes(shape=is_snow)) + \n",
    "  scale_shape_manual(values=c(19, 1)) + \n",
    "  #geom_smooth(method=\"lm\") + \n",
    "  labs(title = \"Snow depth in Kaisaniemi on 24.12. each year\")"
   ]
  },
  {
   "cell_type": "code",
   "execution_count": null,
   "metadata": {},
   "outputs": [],
   "source": [
    "stan_data <- with(christmas, list(decade=(year-2000)/10, is_snow=is_snow, N=length(is_snow)))"
   ]
  },
  {
   "cell_type": "code",
   "execution_count": null,
   "metadata": {},
   "outputs": [],
   "source": [
    "first_model_code <- \"\n",
    "data {\n",
    "   int N;\n",
    "   int<lower=0, upper=1> is_snow[N];\n",
    "}\n",
    "parameters {\n",
    "   real b;\n",
    "}\n",
    "model {\n",
    "  for (i in 1:N) {\n",
    "    is_snow[i] ~ bernoulli_logit(b);\n",
    "  }\n",
    "}\n",
    "\""
   ]
  },
  {
   "cell_type": "code",
   "execution_count": null,
   "metadata": {},
   "outputs": [],
   "source": [
    "m0 <- stan_model(model_code = first_model_code)\n",
    "fit0 <- sampling(m0, data=stan_data)\n",
    "fit0"
   ]
  },
  {
   "cell_type": "code",
   "execution_count": null,
   "metadata": {
    "scrolled": true
   },
   "outputs": [],
   "source": [
    "traceplot(fit0)"
   ]
  },
  {
   "cell_type": "code",
   "execution_count": null,
   "metadata": {},
   "outputs": [],
   "source": [
    "hist(extract(fit0, \"b\")[[1]], n=100)"
   ]
  },
  {
   "cell_type": "code",
   "execution_count": null,
   "metadata": {
    "scrolled": false
   },
   "outputs": [],
   "source": [
    "hist(1/(1+exp(-extract(fit0, \"b\")[[1]])), n=100)"
   ]
  },
  {
   "cell_type": "code",
   "execution_count": null,
   "metadata": {},
   "outputs": [],
   "source": [
    "second_model_code <- \"\n",
    "data {\n",
    "  int N;\n",
    "  int<lower=0, upper=1> is_snow[N];\n",
    "  real decade[N]; \n",
    "}\n",
    "parameters {\n",
    "  real b;\n",
    "  real k; \n",
    "}\n",
    "model {\n",
    "  for (i in 1:N) {\n",
    "    is_snow[i] ~ bernoulli_logit(k * decade[i] + b);\n",
    "  }\n",
    "}\n",
    "generated quantities {\n",
    "  real prob[N];\n",
    "  for (i in 1:N) {\n",
    "    prob[i] = inv_logit(k* decade[i] + b);\n",
    "  }\n",
    "}\n",
    "\""
   ]
  },
  {
   "cell_type": "code",
   "execution_count": null,
   "metadata": {},
   "outputs": [],
   "source": [
    "m <- stan_model(model_code = second_model_code)\n",
    "fit <- sampling(m, data=stan_data)\n",
    "fit"
   ]
  },
  {
   "cell_type": "code",
   "execution_count": null,
   "metadata": {},
   "outputs": [],
   "source": [
    "traceplot(fit)"
   ]
  },
  {
   "cell_type": "code",
   "execution_count": null,
   "metadata": {},
   "outputs": [],
   "source": [
    "#plot(fit, pars=c(\"k\", \"b\"))\n",
    "plot(fit, pars=\"prob\")"
   ]
  },
  {
   "cell_type": "code",
   "execution_count": null,
   "metadata": {},
   "outputs": [],
   "source": [
    "# Has snow cover decreased significantly?\n",
    "diff_samples <- extract(fit, \"prob[1]\")[[1]] - extract(fit, \"prob[60]\")[[1]]\n",
    "# probability of decrease\n",
    "mean(diff_samples > 0)"
   ]
  },
  {
   "cell_type": "code",
   "execution_count": null,
   "metadata": {},
   "outputs": [],
   "source": [
    "# Now estimate snow propability for 2019\n",
    "decade_2019 <- (2019 - 2000) / 10\n",
    "post_draws <- extract(fit)\n",
    "predictions <- inv.logit(post_draws$b + post_draws$k * decade_2019)"
   ]
  },
  {
   "cell_type": "code",
   "execution_count": null,
   "metadata": {},
   "outputs": [],
   "source": [
    "mean(predictions)"
   ]
  },
  {
   "cell_type": "code",
   "execution_count": null,
   "metadata": {},
   "outputs": [],
   "source": [
    "hist(predictions)"
   ]
  }
 ],
 "metadata": {
  "kernelspec": {
   "display_name": "R",
   "language": "R",
   "name": "ir"
  },
  "language_info": {
   "codemirror_mode": "r",
   "file_extension": ".r",
   "mimetype": "text/x-r-source",
   "name": "R",
   "pygments_lexer": "r",
   "version": "3.6.1"
  }
 },
 "nbformat": 4,
 "nbformat_minor": 2
}
