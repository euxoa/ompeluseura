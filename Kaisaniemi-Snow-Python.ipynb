{
 "cells": [
  {
   "cell_type": "markdown",
   "metadata": {},
   "source": [
    "# Depth of snow cover in Kaisaniemi Helsinki"
   ]
  },
  {
   "cell_type": "markdown",
   "metadata": {},
   "source": [
    "This notebook investigates the depth of snow in Kaisaniemi Helsinki over last 60 years. Especially we look in to the probability of snow depth being more than 0 cm on a single day each year.\n",
    "\n"
   ]
  },
  {
   "cell_type": "markdown",
   "metadata": {},
   "source": [
    "The data is originally from FMI: https://ilmatieteenlaitos.fi/havaintojen-lataus#!/"
   ]
  },
  {
   "cell_type": "code",
   "execution_count": null,
   "metadata": {
    "scrolled": true
   },
   "outputs": [],
   "source": [
    "import pandas as pd\n",
    "import pystan\n",
    "import numpy as np\n",
    "import seaborn as sns\n",
    "import matplotlib.pyplot as plt\n",
    "import scipy.special as ss\n",
    "\n",
    "%matplotlib inline"
   ]
  },
  {
   "cell_type": "code",
   "execution_count": null,
   "metadata": {},
   "outputs": [],
   "source": [
    "# Load and cleanup data\n",
    "# ovewrite original column names\n",
    "# parse dates from several columns\n",
    "# clean up negative snow depths\n",
    "df = (pd.read_csv(\"https://raw.githubusercontent.com/dins/snow-depth/master/kaisaniemi.csv\", \n",
    "                 names=['year', 'month', 'day', 'clock', 'tzone', 'snow', 'temp'],\n",
    "                 header=0)\n",
    "                .assign(date = lambda d: pd.to_datetime(d[['year', 'month', 'day']]),\n",
    "                        snow = lambda d: d['snow'].clip(0),\n",
    "                        is_snow = lambda d: d['snow'] > 0)\n",
    "                  [['date', 'snow', 'is_snow', 'temp']])"
   ]
  },
  {
   "cell_type": "code",
   "execution_count": null,
   "metadata": {},
   "outputs": [],
   "source": [
    "df.tail()"
   ]
  },
  {
   "cell_type": "code",
   "execution_count": null,
   "metadata": {},
   "outputs": [],
   "source": [
    "# Look into a specific day of the year\n",
    "# Remove years with out snow depth measurement\n",
    "christmas = df.loc[lambda d: ~d['snow'].isnull() & (d['date'].dt.day == 24) & (d['date'].dt.month == 12)]"
   ]
  },
  {
   "cell_type": "code",
   "execution_count": null,
   "metadata": {},
   "outputs": [],
   "source": [
    "christmas.head()"
   ]
  },
  {
   "cell_type": "code",
   "execution_count": null,
   "metadata": {},
   "outputs": [],
   "source": [
    "plt.scatter(christmas['date'].dt.year, christmas['snow'])"
   ]
  },
  {
   "cell_type": "code",
   "execution_count": null,
   "metadata": {},
   "outputs": [],
   "source": [
    "stan_data = christmas.assign(decade=lambda d: (d['date'].dt.year - 2000) / 10,\n",
    "                             is_snow=lambda d: d['is_snow'].astype(int))[['decade', 'is_snow']]"
   ]
  },
  {
   "cell_type": "code",
   "execution_count": null,
   "metadata": {},
   "outputs": [],
   "source": [
    "first_model_code = '''\n",
    "data {\n",
    "   int N;\n",
    "   int<lower=0, upper=1> is_snow[N];\n",
    "}\n",
    "parameters {\n",
    "   real b;\n",
    "}\n",
    "model {\n",
    "  for (i in 1:N) {\n",
    "    is_snow[i] ~ bernoulli_logit(b);\n",
    "  }\n",
    "}\n",
    "'''"
   ]
  },
  {
   "cell_type": "code",
   "execution_count": null,
   "metadata": {},
   "outputs": [],
   "source": [
    "model = pystan.StanModel(model_code=first_model_code)\n",
    "fit = model.sampling(data={'N': len(stan_data), **stan_data.to_dict(orient='list')}, iter=1000, chains=4)\n",
    "fit"
   ]
  },
  {
   "cell_type": "code",
   "execution_count": null,
   "metadata": {},
   "outputs": [],
   "source": [
    "b_param = fit.extract('b')['b']\n",
    "plt.hist(b_param)\n",
    "pass"
   ]
  },
  {
   "cell_type": "code",
   "execution_count": null,
   "metadata": {
    "scrolled": false
   },
   "outputs": [],
   "source": [
    "plt.hist(1/(1+np.exp(-b_param)))"
   ]
  },
  {
   "cell_type": "code",
   "execution_count": null,
   "metadata": {},
   "outputs": [],
   "source": [
    "second_model_code = '''\n",
    "data {\n",
    "  int N;\n",
    "  int<lower=0, upper=1> is_snow[N];\n",
    "  real decade[N]; \n",
    "}\n",
    "parameters {\n",
    "  real b;\n",
    "  real k; \n",
    "}\n",
    "model {\n",
    "  for (i in 1:N) {\n",
    "    is_snow[i] ~ bernoulli_logit(k * decade[i] + b);\n",
    "  }\n",
    "}\n",
    "generated quantities {\n",
    "  real prob[N];\n",
    "  for (i in 1:N) {\n",
    "    prob[i] = inv_logit(k* decade[i] + b);\n",
    "  }\n",
    "}\n",
    "'''"
   ]
  },
  {
   "cell_type": "code",
   "execution_count": null,
   "metadata": {},
   "outputs": [],
   "source": [
    "model2 = pystan.StanModel(model_code=second_model_code)\n",
    "fit2 = model2.sampling(data={'N': len(stan_data), **stan_data.to_dict(orient='list')}, iter=1000, chains=4)\n",
    "fit2"
   ]
  },
  {
   "cell_type": "code",
   "execution_count": null,
   "metadata": {},
   "outputs": [],
   "source": [
    "# Has snow cover decreased significantly?\n",
    "params = fit2.extract(['prob[1]', 'prob[60]'])\n",
    "diff_samples = params['prob[1]'] - params['prob[60]']\n",
    "# probability of decrease\n",
    "np.mean(diff_samples > 0)"
   ]
  },
  {
   "cell_type": "code",
   "execution_count": null,
   "metadata": {},
   "outputs": [],
   "source": [
    "# Now estimate snow propability for 2019\n",
    "decade_2019 = (2019 - 2000) / 10\n",
    "post_draws = fit2.extract(['b', 'k'])\n",
    "predictions = ss.expit(post_draws['b'] + post_draws['k'] * decade_2019)"
   ]
  },
  {
   "cell_type": "code",
   "execution_count": null,
   "metadata": {},
   "outputs": [],
   "source": [
    "np.mean(predictions)"
   ]
  },
  {
   "cell_type": "code",
   "execution_count": null,
   "metadata": {},
   "outputs": [],
   "source": [
    "plt.hist(predictions)"
   ]
  },
  {
   "cell_type": "code",
   "execution_count": null,
   "metadata": {},
   "outputs": [],
   "source": []
  }
 ],
 "metadata": {
  "kernelspec": {
   "display_name": "Python 3",
   "language": "python",
   "name": "python3"
  },
  "language_info": {
   "codemirror_mode": {
    "name": "ipython",
    "version": 3
   },
   "file_extension": ".py",
   "mimetype": "text/x-python",
   "name": "python",
   "nbconvert_exporter": "python",
   "pygments_lexer": "ipython3",
   "version": "3.6.8"
  }
 },
 "nbformat": 4,
 "nbformat_minor": 2
}
