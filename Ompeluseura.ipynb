{
 "cells": [
  {
   "cell_type": "code",
   "execution_count": null,
   "metadata": {
    "colab": {
     "base_uri": "https://localhost:8080/",
     "height": 136
    },
    "colab_type": "code",
    "id": "qIbhtDzdwYdB",
    "outputId": "4b7b575c-25c2-455f-e6a5-c33671dcda12"
   },
   "outputs": [],
   "source": [
    "options(repr.plot.width = 8, repr.plot.height = 4)\n",
    "\n",
    "library(\"rstan\")\n",
    "options(mc.cores = 2)\n",
    "rstan_options(auto_write = TRUE) # avoid recompilation of unchanged Stan programs\n",
    "\n",
    "library(\"bayesplot\")\n",
    "library(\"dplyr\")\n",
    "library(\"ggplot2\")"
   ]
  },
  {
   "cell_type": "markdown",
   "metadata": {
    "colab_type": "text",
    "id": "1J6INEJ3usxP"
   },
   "source": [
    "The data consists of average monthly temperatures from the FMI Kilpisjärvi station, for the last four decades. FMI has their own API, but casual downloads are easiest through their interactive service at https://ilmatieteenlaitos.fi/havaintojen-lataus#!/\n",
    "\n",
    "Why Kilpisjärvi? Its a beautiful place, one of the few mountaineous areas in Finland. Its high latitude its temperature interesting, for warming due to greenhouse gases tends to be much more pronounced in the artic than on southern latitudes. The scripts on this notebook are general though, so that you can insert data from your favorite locations easily."
   ]
  },
  {
   "cell_type": "code",
   "execution_count": null,
   "metadata": {
    "colab": {},
    "colab_type": "code",
    "id": "0ocs9zTCx-Sw"
   },
   "outputs": [],
   "source": [
    "d <- readr::read_csv(\"https://raw.githubusercontent.com/euxoa/ompeluseura/master/kilpisjarvi_raw.csv\") %>% \n",
    "  setNames(c(\"year\", \"month\", \"day\", \"_clock\", \"tzone\", \"temp\")) %>%\n",
    "  mutate(t = ISOdate(year, month, day), \n",
    "         f_month = as.factor(month),\n",
    "         decade = as.numeric(t - ISOdate(2000, 1, 1), units=\"days\")/365.25) %>%\n",
    "  select(year, f_month, t, decade, temp)"
   ]
  },
  {
   "cell_type": "code",
   "execution_count": null,
   "metadata": {
    "colab": {
     "base_uri": "https://localhost:8080/",
     "height": 497
    },
    "colab_type": "code",
    "id": "HrED9oZSx_ph",
    "outputId": "3a869e1b-2e13-430c-9658-f78e358e6260"
   },
   "outputs": [],
   "source": [
    "ggplot(d, aes(x=t, y=temp)) +\n",
    "    geom_line() +\n",
    "    labs(title = \"Monthly average temperature (C°)\")"
   ]
  },
  {
   "cell_type": "code",
   "execution_count": null,
   "metadata": {
    "colab": {
     "base_uri": "https://localhost:8080/",
     "height": 497
    },
    "colab_type": "code",
    "id": "8YqsO4FWAW0X",
    "outputId": "44e86d98-2a22-4b9f-eb24-46e7d2601b7d"
   },
   "outputs": [],
   "source": [
    "ggplot(d, aes(x=t, y=temp, color=f_month)) +\n",
    "    geom_line() +\n",
    "    labs(title = \"Monthly average by month\", color= \"Month\")"
   ]
  },
  {
   "cell_type": "markdown",
   "metadata": {
    "colab_type": "text",
    "id": "gDOSfmipxHIN"
   },
   "source": [
    "An upward trend is obvious. Note high variance of the winter months!"
   ]
  },
  {
   "cell_type": "code",
   "execution_count": null,
   "metadata": {
    "colab": {
     "base_uri": "https://localhost:8080/",
     "height": 497
    },
    "colab_type": "code",
    "id": "vbYpL1qzA66F",
    "outputId": "2ba884bb-2eff-40c9-b68f-8febf759018e"
   },
   "outputs": [],
   "source": [
    "ggplot(d, aes(x=t, y=temp, color=f_month)) +\n",
    "    geom_smooth(method=\"lm\") +\n",
    "    labs(title = \"Trend by month\", color = \"Month\")"
   ]
  },
  {
   "cell_type": "code",
   "execution_count": null,
   "metadata": {
    "colab": {
     "base_uri": "https://localhost:8080/",
     "height": 497
    },
    "colab_type": "code",
    "id": "c4HysAnzyA_p",
    "outputId": "c7661a46-3ac7-4024-aaf3-434d394e1ef8"
   },
   "outputs": [],
   "source": [
    "d_year <- d %>%\n",
    "    group_by(year) %>%\n",
    "    summarise(n=n(), temp=mean(temp), decade=mean(decade)) %>%\n",
    "    filter(n==12)"
   ]
  },
  {
   "cell_type": "code",
   "execution_count": null,
   "metadata": {
    "colab": {
     "base_uri": "https://localhost:8080/",
     "height": 497
    },
    "colab_type": "code",
    "id": "c4HysAnzyA_p",
    "outputId": "c7661a46-3ac7-4024-aaf3-434d394e1ef8"
   },
   "outputs": [],
   "source": [
    "ggplot(d_year, aes(x=year, y=temp)) +\n",
    "    geom_line() +\n",
    "    labs(title = \"Yearly average temperature (C°)\")"
   ]
  },
  {
   "cell_type": "code",
   "execution_count": null,
   "metadata": {
    "colab": {
     "base_uri": "https://localhost:8080/",
     "height": 497
    },
    "colab_type": "code",
    "id": "ypXiaqB6jKRh",
    "outputId": "7c5ccf1e-378f-46c9-e7bc-ffb4a1a371d4"
   },
   "outputs": [],
   "source": [
    "# Our calculated decade variable is just distance from 1.1.2000 in years. It's the time variable with a sane variance.\n",
    "ggplot(d_year, aes(x=year, y=decade)) +\n",
    "    geom_line() +\n",
    "    labs(title = \"Our calculated decade variable\")"
   ]
  },
  {
   "cell_type": "code",
   "execution_count": null,
   "metadata": {
    "colab": {},
    "colab_type": "code",
    "id": "73RhNTq46s8a"
   },
   "outputs": [],
   "source": [
    "stan_data_yearly <- with(d_year, list(N=length(temp), decade=decade, temp=temp))"
   ]
  },
  {
   "cell_type": "code",
   "execution_count": null,
   "metadata": {
    "colab": {},
    "colab_type": "code",
    "id": "f2BALRKtKtH6"
   },
   "outputs": [],
   "source": [
    "compile_and_fit_model <- function(model_code, data, vars_of_interest) {\n",
    "  stan_start_time <- Sys.time()\n",
    "  model <- stan_model(model_code = model_code) # compilation takes time if model is changed\n",
    "  fit <- sampling(model, data = data)\n",
    "  message(\"Compilation and fitting in secs \", difftime(Sys.time(), stan_start_time, units=\"secs\"))\n",
    "  \n",
    "  posterior <- as.matrix(fit)\n",
    "  print(traceplot(fit))\n",
    "  print(fit)\n",
    "\n",
    "  # Print posterior distributions for interesting variables\n",
    "  posterior <- as.matrix(fit)\n",
    "  for (var_name in vars_of_interest) {\n",
    "    plot <- mcmc_areas(posterior, pars = c(var_name), prob = 0.8)  + \n",
    "      ggtitle(paste(\"Variable \", var_name, \" posterior distributions with median and 80% interval\"))\n",
    "    print(plot)  \n",
    "  }\n",
    "\n",
    "  message(\"Total duration in secs \", difftime(Sys.time(), stan_start_time, units=\"secs\"))\n",
    "  return(fit)\n",
    "}"
   ]
  },
  {
   "cell_type": "markdown",
   "metadata": {
    "colab_type": "text",
    "id": "3f550mT7Oitz"
   },
   "source": [
    "The first model is a linear regression on the data aggregated to yearly level."
   ]
  },
  {
   "cell_type": "code",
   "execution_count": null,
   "metadata": {
    "colab": {
     "base_uri": "https://localhost:8080/",
     "height": 1000
    },
    "colab_type": "code",
    "id": "xVQm7s4e7Z2p",
    "outputId": "c09c784d-26f5-4161-c606-b8b687692f31"
   },
   "outputs": [],
   "source": [
    "model_simple_normal <- \"\n",
    "data {\n",
    "  int<lower=0> N;\n",
    "  vector[N] decade;\n",
    "  vector[N] temp;\n",
    "}\n",
    "parameters {\n",
    "  real a;\n",
    "  real b;\n",
    "  real<lower=0> sigma;\n",
    "}\n",
    "model {\n",
    "  temp ~ normal(a + b * decade, sigma);\n",
    "}\n",
    "\"\n",
    "fit_sn <- compile_and_fit_model(model_code = model_simple_normal, data = stan_data_yearly, vars_of_interest = c(\"b\"))\n"
   ]
  },
  {
   "cell_type": "markdown",
   "metadata": {
    "colab_type": "text",
    "id": "lSkoDcf7uCMe"
   },
   "source": [
    "In the second model, we take monthly data, and fit linear regression lines to each of the months separately. "
   ]
  },
  {
   "cell_type": "code",
   "execution_count": null,
   "metadata": {
    "colab": {},
    "colab_type": "code",
    "id": "WGWRlH34PPSR"
   },
   "outputs": [],
   "source": [
    "stan_data_monthly <- with(d, list(N=length(temp), decade=decade, month=as.integer(f_month), temp=temp))"
   ]
  },
  {
   "cell_type": "code",
   "execution_count": null,
   "metadata": {
    "colab": {
     "base_uri": "https://localhost:8080/",
     "height": 1000
    },
    "colab_type": "code",
    "id": "uaE0kZ0vkqms",
    "outputId": "141ad9d0-e0b0-4f7a-84ba-4e7e28ac83ce"
   },
   "outputs": [],
   "source": [
    "monthly_model_code <- \"\n",
    "data {\n",
    "  int N;\n",
    "  real decade[N];\n",
    "  real temp[N];\n",
    "  int month[N];\n",
    "}\n",
    "parameters {\n",
    "  real<lower=0> sigma[12];\n",
    "  real b[12];\n",
    "  real k[12];\n",
    "}\n",
    "model {\n",
    "  for (i in 1:N) {\n",
    "     int m = month[i];\n",
    "     temp[i] ~ normal(k[m] * decade[i] + b[m], sigma[m]); }\n",
    "  sigma ~ normal(0, 5);\n",
    "  b ~ normal(0, 5);\n",
    "  k ~ normal(0, 1);\n",
    "}\n",
    "\"\n",
    "fit <- compile_and_fit_model(model_code = monthly_model_code, data = stan_data_monthly, vars_of_interest = c())"
   ]
  },
  {
   "cell_type": "markdown",
   "metadata": {
    "colab_type": "text",
    "id": "8Lo4YrL2zraz"
   },
   "source": [
    "You can plot samples of the model, for example by variable pairs."
   ]
  },
  {
   "cell_type": "code",
   "execution_count": null,
   "metadata": {
    "colab": {
     "base_uri": "https://localhost:8080/",
     "height": 497
    },
    "colab_type": "code",
    "id": "YmCDzKEpkxgc",
    "outputId": "08cfe7e8-7271-4417-8126-e8a10dae7668"
   },
   "outputs": [],
   "source": [
    "data.frame(s1=extract(fit, \"sigma[1]\")[[1]], s2=extract(fit, \"b[1]\")[[1]]) %>%\n",
    "    ggplot(aes(x=s1, y=s2)) +\n",
    "    geom_point()"
   ]
  },
  {
   "cell_type": "markdown",
   "metadata": {
    "colab_type": "text",
    "id": "NB-6HyDZz2wB"
   },
   "source": [
    "Below, the change of temperature per decade, by month. Note the higher uncertainty of winter months!"
   ]
  },
  {
   "cell_type": "code",
   "execution_count": null,
   "metadata": {
    "colab": {
     "base_uri": "https://localhost:8080/",
     "height": 531
    },
    "colab_type": "code",
    "id": "58zU47bpu_lE",
    "outputId": "3f82803f-03c9-43a9-f5a5-2876b7348cc3"
   },
   "outputs": [],
   "source": [
    "plot(fit, pars=\"k\")"
   ]
  },
  {
   "cell_type": "markdown",
   "metadata": {
    "colab_type": "text",
    "id": "dboqXjuM0Cpo"
   },
   "source": [
    "Winter months also have higher residual variance."
   ]
  },
  {
   "cell_type": "code",
   "execution_count": null,
   "metadata": {
    "colab": {
     "base_uri": "https://localhost:8080/",
     "height": 531
    },
    "colab_type": "code",
    "id": "eJLHxMl40J9R",
    "outputId": "df6f41d7-6d3c-4cdf-cc22-e5d7c5c130d6"
   },
   "outputs": [],
   "source": [
    "plot(fit, pars=\"sigma\")"
   ]
  },
  {
   "cell_type": "markdown",
   "metadata": {
    "colab_type": "text",
    "id": "ySritymhGnu0"
   },
   "source": [
    "You can do hypothesis testing with the samples."
   ]
  },
  {
   "cell_type": "code",
   "execution_count": null,
   "metadata": {
    "colab": {
     "base_uri": "https://localhost:8080/",
     "height": 514
    },
    "colab_type": "code",
    "id": "GMQ_SICOFWzL",
    "outputId": "9418c486-c5e4-4b11-c579-ca2852131c4e"
   },
   "outputs": [],
   "source": [
    "dec_jun <- extract(fit, \"k[12]\")[[1]] - extract(fit, \"k[6]\")[[1]]\n",
    "mean(dec_jun>0)\n",
    "hist(dec_jun, n=100)"
   ]
  },
  {
   "cell_type": "code",
   "execution_count": null,
   "metadata": {
    "colab": {
     "base_uri": "https://localhost:8080/",
     "height": 1000
    },
    "colab_type": "code",
    "id": "Q5_5ZX4FJS3N",
    "outputId": "a660c991-3e8c-4322-9d05-013c251db1d9"
   },
   "outputs": [],
   "source": [
    "monthly_model_code2 <- \"\n",
    "data {\n",
    "  int N;\n",
    "  real decade[N];\n",
    "  real temp[N];\n",
    "  int month[N];\n",
    "}\n",
    "parameters {\n",
    "  real<lower=0> sigma[12];\n",
    "  real b[12];\n",
    "  real k[12];\n",
    "  real<lower=0> sigma_change_k;\n",
    "}\n",
    "model {\n",
    "  for (i in 1:N) {\n",
    "     int m = month[i];\n",
    "     temp[i] ~ normal(k[m] * decade[i] + b[m], sigma[m]); }\n",
    "  sigma ~ normal(0, 5);\n",
    "  b ~ normal(0, 5);\n",
    "  for (i in 2:12)\n",
    "     k[i] ~ normal(k[i-1], sigma_change_k);\n",
    "  k[1] ~ normal(k[12], sigma_change_k);\n",
    "  k[5] ~ normal(0, 1); // Any k will do to fix the overall level.\n",
    "}\n",
    "\"\n",
    "fit2 <- compile_and_fit_model(model_code = monthly_model_code2,\n",
    "                              data = stan_data_monthly,\n",
    "                              vars_of_interest = c())"
   ]
  },
  {
   "cell_type": "code",
   "execution_count": null,
   "metadata": {
    "colab": {
     "base_uri": "https://localhost:8080/",
     "height": 1000
    },
    "colab_type": "code",
    "id": "144MZQOIKptw",
    "outputId": "606cb9a8-bc7f-4d3f-9786-0cc8207697e0"
   },
   "outputs": [],
   "source": [
    "plot(fit2, pars=\"k\")\n",
    "plot(fit, pars=\"k\")"
   ]
  },
  {
   "cell_type": "code",
   "execution_count": null,
   "metadata": {
    "colab": {
     "base_uri": "https://localhost:8080/",
     "height": 497
    },
    "colab_type": "code",
    "id": "ls4CXnuQLXrj",
    "outputId": "b66dbde7-9c3f-45eb-ac81-807301f78ffd"
   },
   "outputs": [],
   "source": [
    "data.frame(s1=extract(fit2, \"k[1]\")[[1]], s2=extract(fit2, \"k[2]\")[[1]]) %>%\n",
    "    ggplot(aes(x=s1, y=s2)) +\n",
    "    geom_point()"
   ]
  }
 ],
 "metadata": {
  "kernelspec": {
   "display_name": "R",
   "language": "R",
   "name": "ir"
  },
  "language_info": {
   "codemirror_mode": "r",
   "file_extension": ".r",
   "mimetype": "text/x-r-source",
   "name": "R",
   "pygments_lexer": "r",
   "version": "3.6.1"
  }
 },
 "nbformat": 4,
 "nbformat_minor": 1
}
